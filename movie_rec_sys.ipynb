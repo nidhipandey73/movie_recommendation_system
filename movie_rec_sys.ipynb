{
 "cells": [
  {
   "cell_type": "markdown",
   "id": "3e81d54b-ba7c-4602-b88d-d172be3a6855",
   "metadata": {},
   "source": [
    "Importing the dependencies"
   ]
  },
  {
   "cell_type": "code",
   "execution_count": 1,
   "id": "7bc636b8-60e0-4431-b40a-3b1fbe76e1f7",
   "metadata": {},
   "outputs": [],
   "source": [
    "import numpy as np\n",
    "import pandas as pd\n",
    "import difflib # to get the closest value matching with user input\n",
    "from sklearn.feature_extraction.text import TfidfVectorizer\n",
    "from sklearn.metrics.pairwise import cosine_similarity"
   ]
  },
  {
   "cell_type": "markdown",
   "id": "9ade6a35-d292-43ce-845c-bc5b4bb9a4a6",
   "metadata": {},
   "source": [
    "Data Collection and Pre-Processing"
   ]
  },
  {
   "cell_type": "code",
   "execution_count": 2,
   "id": "25b1ca86-1ca6-44ba-988e-eff90a886176",
   "metadata": {},
   "outputs": [],
   "source": [
    "movies_df = pd.read_csv('datasets/movies.csv')"
   ]
  },
  {
   "cell_type": "code",
   "execution_count": 3,
   "id": "286c56e7-363c-45ec-b060-9e85b9c18a38",
   "metadata": {},
   "outputs": [
    {
     "data": {
      "text/html": [
       "<div>\n",
       "<style scoped>\n",
       "    .dataframe tbody tr th:only-of-type {\n",
       "        vertical-align: middle;\n",
       "    }\n",
       "\n",
       "    .dataframe tbody tr th {\n",
       "        vertical-align: top;\n",
       "    }\n",
       "\n",
       "    .dataframe thead th {\n",
       "        text-align: right;\n",
       "    }\n",
       "</style>\n",
       "<table border=\"1\" class=\"dataframe\">\n",
       "  <thead>\n",
       "    <tr style=\"text-align: right;\">\n",
       "      <th></th>\n",
       "      <th>index</th>\n",
       "      <th>budget</th>\n",
       "      <th>genres</th>\n",
       "      <th>homepage</th>\n",
       "      <th>id</th>\n",
       "      <th>keywords</th>\n",
       "      <th>original_language</th>\n",
       "      <th>original_title</th>\n",
       "      <th>overview</th>\n",
       "      <th>popularity</th>\n",
       "      <th>...</th>\n",
       "      <th>runtime</th>\n",
       "      <th>spoken_languages</th>\n",
       "      <th>status</th>\n",
       "      <th>tagline</th>\n",
       "      <th>title</th>\n",
       "      <th>vote_average</th>\n",
       "      <th>vote_count</th>\n",
       "      <th>cast</th>\n",
       "      <th>crew</th>\n",
       "      <th>director</th>\n",
       "    </tr>\n",
       "  </thead>\n",
       "  <tbody>\n",
       "    <tr>\n",
       "      <th>873</th>\n",
       "      <td>873</td>\n",
       "      <td>46000000</td>\n",
       "      <td>Action Adventure Crime Thriller</td>\n",
       "      <td>NaN</td>\n",
       "      <td>479</td>\n",
       "      <td>corruption black people italo-american brother...</td>\n",
       "      <td>en</td>\n",
       "      <td>Shaft</td>\n",
       "      <td>New York police detective John Shaft arrests W...</td>\n",
       "      <td>19.643365</td>\n",
       "      <td>...</td>\n",
       "      <td>99.0</td>\n",
       "      <td>[{\"iso_639_1\": \"en\", \"name\": \"English\"}, {\"iso...</td>\n",
       "      <td>Released</td>\n",
       "      <td>Still the man, any questions?</td>\n",
       "      <td>Shaft</td>\n",
       "      <td>5.5</td>\n",
       "      <td>308</td>\n",
       "      <td>Samuel L. Jackson Jeffrey Wright Christian Bal...</td>\n",
       "      <td>[{'name': 'Richard Price', 'gender': 0, 'depar...</td>\n",
       "      <td>John Singleton</td>\n",
       "    </tr>\n",
       "    <tr>\n",
       "      <th>1663</th>\n",
       "      <td>1663</td>\n",
       "      <td>30000000</td>\n",
       "      <td>Drama Crime</td>\n",
       "      <td>NaN</td>\n",
       "      <td>311</td>\n",
       "      <td>life and death corruption street gang rape sad...</td>\n",
       "      <td>en</td>\n",
       "      <td>Once Upon a Time in America</td>\n",
       "      <td>A former Prohibition-era Jewish gangster retur...</td>\n",
       "      <td>49.336397</td>\n",
       "      <td>...</td>\n",
       "      <td>229.0</td>\n",
       "      <td>[{\"iso_639_1\": \"en\", \"name\": \"English\"}, {\"iso...</td>\n",
       "      <td>Released</td>\n",
       "      <td>Crime, passion and lust for power - Sergio Leo...</td>\n",
       "      <td>Once Upon a Time in America</td>\n",
       "      <td>8.2</td>\n",
       "      <td>1069</td>\n",
       "      <td>Robert De Niro James Woods Elizabeth McGovern ...</td>\n",
       "      <td>[{'name': 'Arnon Milchan', 'gender': 2, 'depar...</td>\n",
       "      <td>Sergio Leone</td>\n",
       "    </tr>\n",
       "    <tr>\n",
       "      <th>1997</th>\n",
       "      <td>1997</td>\n",
       "      <td>23000000</td>\n",
       "      <td>Romance Science Fiction Drama</td>\n",
       "      <td>http://www.herthemovie.com/</td>\n",
       "      <td>152601</td>\n",
       "      <td>artificial intelligence computer love loneline...</td>\n",
       "      <td>en</td>\n",
       "      <td>Her</td>\n",
       "      <td>In the not so distant future, Theodore, a lone...</td>\n",
       "      <td>53.682367</td>\n",
       "      <td>...</td>\n",
       "      <td>126.0</td>\n",
       "      <td>[{\"iso_639_1\": \"en\", \"name\": \"English\"}]</td>\n",
       "      <td>Released</td>\n",
       "      <td>A Spike Jonze Love Story</td>\n",
       "      <td>Her</td>\n",
       "      <td>7.9</td>\n",
       "      <td>4097</td>\n",
       "      <td>Joaquin Phoenix Scarlett Johansson Rooney Mara...</td>\n",
       "      <td>[{'name': 'K.K. Barrett', 'gender': 0, 'depart...</td>\n",
       "      <td>Spike Jonze</td>\n",
       "    </tr>\n",
       "    <tr>\n",
       "      <th>2504</th>\n",
       "      <td>2504</td>\n",
       "      <td>15600000</td>\n",
       "      <td>Comedy Drama</td>\n",
       "      <td>http://www.juwannamann.com/</td>\n",
       "      <td>35696</td>\n",
       "      <td>sport basketball beautiful woman hit in crotch...</td>\n",
       "      <td>en</td>\n",
       "      <td>Juwanna Mann</td>\n",
       "      <td>A basketball star is booted out of the NBA whe...</td>\n",
       "      <td>2.244947</td>\n",
       "      <td>...</td>\n",
       "      <td>91.0</td>\n",
       "      <td>[{\"iso_639_1\": \"en\", \"name\": \"English\"}]</td>\n",
       "      <td>Released</td>\n",
       "      <td>NaN</td>\n",
       "      <td>Juwanna Mann</td>\n",
       "      <td>4.2</td>\n",
       "      <td>20</td>\n",
       "      <td>Miguel A. N\\u00fa\\u00f1ez, Jr. Vivica A. Fox K...</td>\n",
       "      <td>[{'name': 'Jesse Vaughan', 'gender': 0, 'depar...</td>\n",
       "      <td>Jesse Vaughan</td>\n",
       "    </tr>\n",
       "    <tr>\n",
       "      <th>1238</th>\n",
       "      <td>1238</td>\n",
       "      <td>40000000</td>\n",
       "      <td>Fantasy Horror Science Fiction</td>\n",
       "      <td>NaN</td>\n",
       "      <td>9306</td>\n",
       "      <td>monster experiment island mutation genetics</td>\n",
       "      <td>en</td>\n",
       "      <td>The Island of Dr. Moreau</td>\n",
       "      <td>A shipwrecked sailor stumbles upon a mysteriou...</td>\n",
       "      <td>13.210898</td>\n",
       "      <td>...</td>\n",
       "      <td>96.0</td>\n",
       "      <td>[{\"iso_639_1\": \"en\", \"name\": \"English\"}]</td>\n",
       "      <td>Released</td>\n",
       "      <td>The gates of hell are unlocked.</td>\n",
       "      <td>The Island of Dr. Moreau</td>\n",
       "      <td>4.6</td>\n",
       "      <td>147</td>\n",
       "      <td>Marlon Brando Val Kilmer David Thewlis Fairuza...</td>\n",
       "      <td>[{'name': 'Valerie McCaffrey', 'gender': 1, 'd...</td>\n",
       "      <td>John Frankenheimer</td>\n",
       "    </tr>\n",
       "  </tbody>\n",
       "</table>\n",
       "<p>5 rows × 24 columns</p>\n",
       "</div>"
      ],
      "text/plain": [
       "      index    budget                           genres  \\\n",
       "873     873  46000000  Action Adventure Crime Thriller   \n",
       "1663   1663  30000000                      Drama Crime   \n",
       "1997   1997  23000000    Romance Science Fiction Drama   \n",
       "2504   2504  15600000                     Comedy Drama   \n",
       "1238   1238  40000000   Fantasy Horror Science Fiction   \n",
       "\n",
       "                         homepage      id  \\\n",
       "873                           NaN     479   \n",
       "1663                          NaN     311   \n",
       "1997  http://www.herthemovie.com/  152601   \n",
       "2504  http://www.juwannamann.com/   35696   \n",
       "1238                          NaN    9306   \n",
       "\n",
       "                                               keywords original_language  \\\n",
       "873   corruption black people italo-american brother...                en   \n",
       "1663  life and death corruption street gang rape sad...                en   \n",
       "1997  artificial intelligence computer love loneline...                en   \n",
       "2504  sport basketball beautiful woman hit in crotch...                en   \n",
       "1238        monster experiment island mutation genetics                en   \n",
       "\n",
       "                   original_title  \\\n",
       "873                         Shaft   \n",
       "1663  Once Upon a Time in America   \n",
       "1997                          Her   \n",
       "2504                 Juwanna Mann   \n",
       "1238     The Island of Dr. Moreau   \n",
       "\n",
       "                                               overview  popularity  ...  \\\n",
       "873   New York police detective John Shaft arrests W...   19.643365  ...   \n",
       "1663  A former Prohibition-era Jewish gangster retur...   49.336397  ...   \n",
       "1997  In the not so distant future, Theodore, a lone...   53.682367  ...   \n",
       "2504  A basketball star is booted out of the NBA whe...    2.244947  ...   \n",
       "1238  A shipwrecked sailor stumbles upon a mysteriou...   13.210898  ...   \n",
       "\n",
       "     runtime                                   spoken_languages    status  \\\n",
       "873     99.0  [{\"iso_639_1\": \"en\", \"name\": \"English\"}, {\"iso...  Released   \n",
       "1663   229.0  [{\"iso_639_1\": \"en\", \"name\": \"English\"}, {\"iso...  Released   \n",
       "1997   126.0           [{\"iso_639_1\": \"en\", \"name\": \"English\"}]  Released   \n",
       "2504    91.0           [{\"iso_639_1\": \"en\", \"name\": \"English\"}]  Released   \n",
       "1238    96.0           [{\"iso_639_1\": \"en\", \"name\": \"English\"}]  Released   \n",
       "\n",
       "                                                tagline  \\\n",
       "873                       Still the man, any questions?   \n",
       "1663  Crime, passion and lust for power - Sergio Leo...   \n",
       "1997                           A Spike Jonze Love Story   \n",
       "2504                                                NaN   \n",
       "1238                    The gates of hell are unlocked.   \n",
       "\n",
       "                            title vote_average vote_count  \\\n",
       "873                         Shaft          5.5        308   \n",
       "1663  Once Upon a Time in America          8.2       1069   \n",
       "1997                          Her          7.9       4097   \n",
       "2504                 Juwanna Mann          4.2         20   \n",
       "1238     The Island of Dr. Moreau          4.6        147   \n",
       "\n",
       "                                                   cast  \\\n",
       "873   Samuel L. Jackson Jeffrey Wright Christian Bal...   \n",
       "1663  Robert De Niro James Woods Elizabeth McGovern ...   \n",
       "1997  Joaquin Phoenix Scarlett Johansson Rooney Mara...   \n",
       "2504  Miguel A. N\\u00fa\\u00f1ez, Jr. Vivica A. Fox K...   \n",
       "1238  Marlon Brando Val Kilmer David Thewlis Fairuza...   \n",
       "\n",
       "                                                   crew            director  \n",
       "873   [{'name': 'Richard Price', 'gender': 0, 'depar...      John Singleton  \n",
       "1663  [{'name': 'Arnon Milchan', 'gender': 2, 'depar...        Sergio Leone  \n",
       "1997  [{'name': 'K.K. Barrett', 'gender': 0, 'depart...         Spike Jonze  \n",
       "2504  [{'name': 'Jesse Vaughan', 'gender': 0, 'depar...       Jesse Vaughan  \n",
       "1238  [{'name': 'Valerie McCaffrey', 'gender': 1, 'd...  John Frankenheimer  \n",
       "\n",
       "[5 rows x 24 columns]"
      ]
     },
     "execution_count": 3,
     "metadata": {},
     "output_type": "execute_result"
    }
   ],
   "source": [
    "movies_df.sample(5)"
   ]
  },
  {
   "cell_type": "code",
   "execution_count": 4,
   "id": "77c3a087-02bd-4cfb-aae0-ec47a4f37a27",
   "metadata": {},
   "outputs": [
    {
     "data": {
      "text/plain": [
       "(4803, 24)"
      ]
     },
     "execution_count": 4,
     "metadata": {},
     "output_type": "execute_result"
    }
   ],
   "source": [
    "movies_df.shape"
   ]
  },
  {
   "cell_type": "code",
   "execution_count": 5,
   "id": "44720fd0-bddd-4889-aef2-f898b1c7fd0a",
   "metadata": {},
   "outputs": [],
   "source": [
    "# selecting the relevant features for recommendation\n",
    "selected_features = ['genres', 'keywords', 'tagline', 'cast', 'director']"
   ]
  },
  {
   "cell_type": "code",
   "execution_count": 6,
   "id": "3803cc9d-132f-4ce2-81f8-9619f5596fd0",
   "metadata": {},
   "outputs": [],
   "source": [
    "# replacing the null values with null string \n",
    "for feature in selected_features:\n",
    "    movies_df[feature] = movies_df[feature].fillna('')"
   ]
  },
  {
   "cell_type": "code",
   "execution_count": 7,
   "id": "19fd8236-235d-4f3e-994f-ee259dc4fd59",
   "metadata": {},
   "outputs": [],
   "source": [
    "# combining all the 5 selected features\n",
    "#movies_sel_df = movies_df[selected_features].copy()\n",
    "movies_sel_df = movies_df['genres']+' '+movies_df['keywords']+' '+movies_df['tagline']+' '+movies_df['cast']+' '+movies_df['director']"
   ]
  },
  {
   "cell_type": "code",
   "execution_count": 8,
   "id": "db1f42c1-40be-4285-a980-9094f8bc467f",
   "metadata": {},
   "outputs": [
    {
     "data": {
      "text/plain": [
       "1414    Comedy Romance isolation atomic bomb bunker sh...\n",
       "1055    Comedy Family Music musical the muppets robot ...\n",
       "4351    Action Drama History War sergeant iwo jima A G...\n",
       "425     Adventure Action Thriller paris london england...\n",
       "2515    Adventure Drama Action Romance flying martial ...\n",
       "dtype: object"
      ]
     },
     "execution_count": 8,
     "metadata": {},
     "output_type": "execute_result"
    }
   ],
   "source": [
    "movies_sel_df.sample(5)"
   ]
  },
  {
   "cell_type": "code",
   "execution_count": 9,
   "id": "420ceaf8-1347-49f4-91f5-b167e9dc5266",
   "metadata": {},
   "outputs": [],
   "source": [
    "# converting the text data to features\n",
    "vectorizer = TfidfVectorizer()"
   ]
  },
  {
   "cell_type": "code",
   "execution_count": 10,
   "id": "6b9c57e6-2c71-493d-b380-9a8cdd775506",
   "metadata": {},
   "outputs": [],
   "source": [
    "feature_extraction = vectorizer.fit_transform(movies_sel_df)"
   ]
  },
  {
   "cell_type": "code",
   "execution_count": 11,
   "id": "cffa20e6-e4c5-4113-a29e-f12d1906e5bf",
   "metadata": {},
   "outputs": [
    {
     "name": "stdout",
     "output_type": "stream",
     "text": [
      "  (0, 2432)\t0.17272411194153\n",
      "  (0, 7755)\t0.1128035714854756\n",
      "  (0, 13024)\t0.1942362060108871\n",
      "  (0, 10229)\t0.16058685400095302\n",
      "  (0, 8756)\t0.22709015857011816\n",
      "  (0, 14608)\t0.15150672398763912\n",
      "  (0, 16668)\t0.19843263965100372\n",
      "  (0, 14064)\t0.20596090415084142\n",
      "  (0, 13319)\t0.2177470539412484\n",
      "  (0, 17290)\t0.20197912553916567\n",
      "  (0, 17007)\t0.23643326319898797\n",
      "  (0, 13349)\t0.15021264094167086\n",
      "  (0, 11503)\t0.27211310056983656\n",
      "  (0, 11192)\t0.09049319826481456\n",
      "  (0, 16998)\t0.1282126322850579\n",
      "  (0, 15261)\t0.07095833561276566\n",
      "  (0, 4945)\t0.24025852494110758\n",
      "  (0, 14271)\t0.21392179219912877\n",
      "  (0, 3225)\t0.24960162956997736\n",
      "  (0, 16587)\t0.12549432354918996\n",
      "  (0, 14378)\t0.33962752210959823\n",
      "  (0, 5836)\t0.1646750903586285\n",
      "  (0, 3065)\t0.22208377802661425\n",
      "  (0, 3678)\t0.21392179219912877\n",
      "  (0, 5437)\t0.1036413987316636\n",
      "  :\t:\n",
      "  (4801, 17266)\t0.2886098184932947\n",
      "  (4801, 4835)\t0.24713765026963996\n",
      "  (4801, 403)\t0.17727585190343226\n",
      "  (4801, 6935)\t0.2886098184932947\n",
      "  (4801, 11663)\t0.21557500762727902\n",
      "  (4801, 1672)\t0.1564793427630879\n",
      "  (4801, 10929)\t0.13504166990041588\n",
      "  (4801, 7474)\t0.11307961713172225\n",
      "  (4801, 3796)\t0.3342808988877418\n",
      "  (4802, 6996)\t0.5700048226105303\n",
      "  (4802, 5367)\t0.22969114490410403\n",
      "  (4802, 3654)\t0.262512960498006\n",
      "  (4802, 2425)\t0.24002350969074696\n",
      "  (4802, 4608)\t0.24002350969074696\n",
      "  (4802, 6417)\t0.21753405888348784\n",
      "  (4802, 4371)\t0.1538239182675544\n",
      "  (4802, 12989)\t0.1696476532191718\n",
      "  (4802, 1316)\t0.1960747079005741\n",
      "  (4802, 4528)\t0.19504460807622875\n",
      "  (4802, 3436)\t0.21753405888348784\n",
      "  (4802, 6155)\t0.18056463596934083\n",
      "  (4802, 4980)\t0.16078053641367315\n",
      "  (4802, 2129)\t0.3099656128577656\n",
      "  (4802, 4518)\t0.16784466610624255\n",
      "  (4802, 11161)\t0.17867407682173203\n"
     ]
    }
   ],
   "source": [
    "print(feature_extraction)"
   ]
  },
  {
   "cell_type": "markdown",
   "id": "fcddb7e7-1916-42d3-93b2-1a61a5e48f87",
   "metadata": {},
   "source": [
    "Cosine Similarity"
   ]
  },
  {
   "cell_type": "code",
   "execution_count": 12,
   "id": "1e70e2a7-5e3b-4a84-8b04-2979e5bdc3b1",
   "metadata": {},
   "outputs": [],
   "source": [
    "# getting the similarity scores using cosine similarity\n",
    "\n",
    "similarity = cosine_similarity(feature_extraction)"
   ]
  },
  {
   "cell_type": "code",
   "execution_count": 13,
   "id": "e02f5662-0b1a-4377-8aa1-d00fadf0fc96",
   "metadata": {},
   "outputs": [
    {
     "data": {
      "text/plain": [
       "(4803, 4803)"
      ]
     },
     "execution_count": 13,
     "metadata": {},
     "output_type": "execute_result"
    }
   ],
   "source": [
    "similarity.shape"
   ]
  },
  {
   "cell_type": "code",
   "execution_count": 14,
   "id": "dc8e08d2-6a3f-4cf7-86f2-0a53f6adcb43",
   "metadata": {},
   "outputs": [
    {
     "name": "stdin",
     "output_type": "stream",
     "text": [
      "Enter your favourite movie name Iron Man\n"
     ]
    }
   ],
   "source": [
    "# getting the movie name from the user\n",
    "movie_name = input('Enter your favourite movie name')"
   ]
  },
  {
   "cell_type": "code",
   "execution_count": 15,
   "id": "16253351-2899-41a4-a719-8737b8648c28",
   "metadata": {},
   "outputs": [],
   "source": [
    "# creating a list with all the movie names given in the dataset\n",
    "list_titles = movies_df['title'].tolist() "
   ]
  },
  {
   "cell_type": "code",
   "execution_count": 16,
   "id": "ad9a249c-8af4-415f-baf7-ba4e2aa884da",
   "metadata": {},
   "outputs": [],
   "source": [
    "# finding the close match for the movie name given by the user\n",
    "find_close_match = difflib.get_close_matches(movie_name, list_titles)"
   ]
  },
  {
   "cell_type": "code",
   "execution_count": 17,
   "id": "1ca31674-e7f9-4c02-98d7-3a13eaf2f5ce",
   "metadata": {},
   "outputs": [
    {
     "name": "stdout",
     "output_type": "stream",
     "text": [
      "['Iron Man', 'Iron Man 3', 'Iron Man 2']\n"
     ]
    }
   ],
   "source": [
    "print(find_close_match)"
   ]
  },
  {
   "cell_type": "code",
   "execution_count": 18,
   "id": "73776a74-83cc-4e20-8b89-0a1233e99c33",
   "metadata": {},
   "outputs": [
    {
     "name": "stdout",
     "output_type": "stream",
     "text": [
      "Iron Man\n"
     ]
    }
   ],
   "source": [
    "close_match = find_close_match[0]\n",
    "print(close_match)"
   ]
  },
  {
   "cell_type": "code",
   "execution_count": 19,
   "id": "28922c8a-c8fe-4349-a3a4-220b04484702",
   "metadata": {
    "scrolled": true
   },
   "outputs": [
    {
     "name": "stdout",
     "output_type": "stream",
     "text": [
      "68\n"
     ]
    }
   ],
   "source": [
    "# finding the index of the movie with title\n",
    "\n",
    "index_movie = movies_df[movies_df.title == close_match]['index'].values[0]\n",
    "print(index_movie)"
   ]
  },
  {
   "cell_type": "markdown",
   "id": "d9d86211-9cc7-4460-aeef-3b1634b3cddd",
   "metadata": {},
   "source": [
    "movies_df[movies_df.title == close_match] filters the DataFrame to only include rows where the title matches close_match.\r\n",
    "['index'] selects the column named 'index' from the filtered DataFrame.\r\n",
    ".values converts the values in the 'index' column to an array.\r\n",
    "[0] retrieves the first value from that array, which corresponds to the index of the first movie that matched the condition."
   ]
  },
  {
   "cell_type": "code",
   "execution_count": 20,
   "id": "9d61c26b-afb9-45a7-9ea5-79f466ab3872",
   "metadata": {},
   "outputs": [],
   "source": [
    "# getting a list of similar movies\n",
    "\n",
    "similarity_score = list(enumerate(similarity[index_movie]))"
   ]
  },
  {
   "cell_type": "markdown",
   "id": "bfde56c9-9a4e-4d3f-9bfc-cdfc91aa8c3f",
   "metadata": {},
   "source": [
    "enumerate(similarity[index_movie]) will pair each similarity score with its index."
   ]
  },
  {
   "cell_type": "code",
   "execution_count": 21,
   "id": "964a1e15-a710-4e85-a480-d3c313913076",
   "metadata": {},
   "outputs": [],
   "source": [
    "# sorting the movies based on their similarity score\n",
    "# represent the 2 column - x:x[1]\n",
    "sorted_similar_movies = sorted(similarity_score, key = lambda x:x[1], reverse = True )"
   ]
  },
  {
   "cell_type": "code",
   "execution_count": 22,
   "id": "8dedf337-deb5-4292-bb1a-b648b7924318",
   "metadata": {},
   "outputs": [
    {
     "data": {
      "text/plain": [
       "(68, 1.0000000000000002)"
      ]
     },
     "execution_count": 22,
     "metadata": {},
     "output_type": "execute_result"
    }
   ],
   "source": [
    "sorted_similar_movies[0]"
   ]
  },
  {
   "cell_type": "code",
   "execution_count": 23,
   "id": "59bbb420-fa5e-4a99-aa74-215daa2f75cf",
   "metadata": {},
   "outputs": [
    {
     "name": "stdout",
     "output_type": "stream",
     "text": [
      "Movies suggested for you : \n",
      "1 . Iron Man\n",
      "2 . Iron Man 2\n",
      "3 . Iron Man 3\n",
      "4 . Avengers: Age of Ultron\n",
      "5 . The Avengers\n",
      "6 . Captain America: Civil War\n",
      "7 . Captain America: The Winter Soldier\n",
      "8 . Ant-Man\n",
      "9 . X-Men\n",
      "10 . Made\n"
     ]
    }
   ],
   "source": [
    "# print the name of similar movies based on index\n",
    "\n",
    "print(\"Movies suggested for you : \")\n",
    "\n",
    "i =1\n",
    "\n",
    "for movie in sorted_similar_movies:\n",
    "    index = movie[0]\n",
    "    title_from_index = movies_df[movies_df.index == index]['title'].values[0]\n",
    "    if(i<11):\n",
    "        print(i, \".\", title_from_index)\n",
    "        i += 1"
   ]
  },
  {
   "cell_type": "markdown",
   "id": "488dd36b-15bc-4715-8387-8e2714ea90d6",
   "metadata": {},
   "source": [
    "MOVIE RECOMMENDATION SYSTEM"
   ]
  },
  {
   "cell_type": "code",
   "execution_count": 24,
   "id": "fc164c77-ea02-4968-97c3-557113a5dc10",
   "metadata": {},
   "outputs": [
    {
     "name": "stdin",
     "output_type": "stream",
     "text": [
      "Enter your favourite movie name avatar\n"
     ]
    },
    {
     "name": "stdout",
     "output_type": "stream",
     "text": [
      "Movies suggested for you : \n",
      "1 . Avatar\n",
      "2 . Alien\n",
      "3 . Aliens\n",
      "4 . Guardians of the Galaxy\n",
      "5 . Star Trek Beyond\n",
      "6 . Star Trek Into Darkness\n",
      "7 . Galaxy Quest\n",
      "8 . Alien³\n",
      "9 . Cargo\n",
      "10 . Trekkies\n"
     ]
    }
   ],
   "source": [
    "movie_name = input('Enter your favourite movie name')\n",
    "list_titles = movies_df['title'].tolist() \n",
    "find_close_match = difflib.get_close_matches(movie_name, list_titles)\n",
    "close_match = find_close_match[0]\n",
    "index_movie = movies_df[movies_df.title == close_match]['index'].values[0]\n",
    "similarity_score = list(enumerate(similarity[index_movie]))\n",
    "sorted_similar_movies = sorted(similarity_score, key = lambda x:x[1], reverse = True )\n",
    "print(\"Movies suggested for you : \")\n",
    "i =1\n",
    "\n",
    "for movie in sorted_similar_movies:\n",
    "    index = movie[0]\n",
    "    title_from_index = movies_df[movies_df.index == index]['title'].values[0]\n",
    "    if(i<11):\n",
    "        print(i, \".\", title_from_index)\n",
    "        i += 1"
   ]
  }
 ],
 "metadata": {
  "kernelspec": {
   "display_name": "Python 3 (ipykernel)",
   "language": "python",
   "name": "python3"
  },
  "language_info": {
   "codemirror_mode": {
    "name": "ipython",
    "version": 3
   },
   "file_extension": ".py",
   "mimetype": "text/x-python",
   "name": "python",
   "nbconvert_exporter": "python",
   "pygments_lexer": "ipython3",
   "version": "3.11.4"
  }
 },
 "nbformat": 4,
 "nbformat_minor": 5
}
